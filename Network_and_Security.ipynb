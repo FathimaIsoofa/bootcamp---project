{
  "nbformat": 4,
  "nbformat_minor": 0,
  "metadata": {
    "colab": {
      "name": "Network_and_Security.ipynb",
      "provenance": []
    },
    "kernelspec": {
      "name": "python3",
      "display_name": "Python 3"
    },
    "language_info": {
      "name": "python"
    }
  },
  "cells": [
    {
      "cell_type": "code",
      "metadata": {
        "colab": {
          "base_uri": "https://localhost:8080/"
        },
        "id": "Mmrhc6au1oU6",
        "outputId": "4e6187a8-9439-4d80-8d04-cc7c12d77cf2"
      },
      "source": [
        "import hashlib\n",
        "def gen_md5():\n",
        "  name=\"Harsh\"\n",
        "  result = name.encode(\"utf-8\")\n",
        "\n",
        "  gen_hash = hashlib.md5(result)\n",
        "  md5_output = gen_hash.hexdigest()\n",
        "\n",
        "  print(md5_output)\n",
        "\n",
        "  return\n",
        "\n",
        "gen_md5()"
      ],
      "execution_count": 2,
      "outputs": [
        {
          "output_type": "stream",
          "text": [
            "d6b8294df3871e4689e0f4964b4a1219\n"
          ],
          "name": "stdout"
        }
      ]
    }
  ]
}